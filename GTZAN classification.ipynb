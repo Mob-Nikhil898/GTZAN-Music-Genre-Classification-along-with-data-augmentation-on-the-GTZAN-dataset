{
 "cells": [
  {
   "cell_type": "markdown",
   "id": "5d9877ff",
   "metadata": {},
   "source": [
    "# Get the imports"
   ]
  },
  {
   "cell_type": "code",
   "execution_count": 1,
   "id": "bc993779",
   "metadata": {},
   "outputs": [],
   "source": [
    "import pandas as pd\n",
    "import numpy as np\n",
    "from tensorflow.keras.layers import Conv2D, Dropout, Dense, BatchNormalization, MaxPooling2D, Flatten\n",
    "from tensorflow.keras.models import Sequential\n",
    "from sklearn.model_selection import train_test_split\n",
    "from sklearn.preprocessing import LabelEncoder\n",
    "import matplotlib.pyplot as plt\n",
    "import matplotlib.image as mpimg\n",
    "import random\n",
    "import tensorflow as tf\n",
    "from PIL import Image\n",
    "import cv2"
   ]
  },
  {
   "cell_type": "markdown",
   "id": "6089cdb7",
   "metadata": {},
   "source": [
    "# Load the train dataset"
   ]
  },
  {
   "cell_type": "code",
   "execution_count": 2,
   "id": "2c7aa0f8",
   "metadata": {},
   "outputs": [],
   "source": [
    "classic=[]\n",
    "country=[]\n",
    "disco=[]\n",
    "hiphop=[]\n",
    "metal=[]\n",
    "reggae=[]\n",
    "rock=[] \n",
    "blues=[]\n",
    "pop=[]\n",
    "r_size=(64,64)\n",
    "for i in range(2000):\n",
    "    num= random.randint(0,2999)\n",
    "    x=Image.open(\"C:\\Work\\Datasets\\Mel spectros\\Classical\\classical\"+str(num)+\".png\")\n",
    "    x=cv2.resize(np.array(x).astype(np.float32), r_size)\n",
    "    classic.append([x, 'classic'])\n",
    "for i in range(2000):\n",
    "    num= random.randint(0,2999)\n",
    "    x=mpimg.imread(\"C:\\Work\\Datasets\\Mel spectros\\Country\\country\"+str(num)+\".png\")\n",
    "    x=cv2.resize(np.array(x).astype(np.float32), r_size)\n",
    "    country.append([x, 'country'])\n",
    "for i in range(2000):\n",
    "    num= random.randint(0,2999)\n",
    "    x= mpimg.imread(\"C:\\Work\\Datasets\\Mel spectros\\Disco\\disco\"+str(num)+\".png\")\n",
    "    x=cv2.resize(np.array(x).astype(np.float32), r_size)\n",
    "    disco.append([x, 'disco'])\n",
    "for i in range(2000):\n",
    "    num= random.randint(0,2999)\n",
    "    x= mpimg.imread(\"C:\\Work\\Datasets\\Mel spectros\\Hiphop\\hiphop\"+str(num)+\".png\")\n",
    "    x=cv2.resize(np.array(x).astype(np.float32), r_size)\n",
    "    hiphop.append([x, 'hiphop'])\n",
    "for i in range(2000):\n",
    "    num= random.randint(0,2999)\n",
    "    x= mpimg.imread(\"C:\\Work\\Datasets\\Mel spectros\\Metal\\metal\"+str(num)+\".png\")\n",
    "    x=cv2.resize(np.array(x).astype(np.float32), r_size)\n",
    "    metal.append([x, 'metal'])\n",
    "for i in range(2000):\n",
    "    num= random.randint(0,2999)\n",
    "    x= mpimg.imread(\"C://Work//Datasets//Mel spectros//reggae//reggae\"+str(num)+\".png\")\n",
    "    x=cv2.resize(np.array(x).astype(np.float32), r_size)\n",
    "    reggae.append([x, 'reggae'])\n",
    "for i in range(2000):\n",
    "    num= random.randint(0,2999)\n",
    "    x=mpimg.imread(\"C://Work//Datasets//Mel spectros//Rock//rock\"+str(num)+\".png\")\n",
    "    x=cv2.resize(np.array(x).astype(np.float32), r_size)\n",
    "    rock.append([x, 'rock'])\n",
    "for i in range(2000):\n",
    "    num= random.randint(0,2999)\n",
    "    x= mpimg.imread(\"C://Work\\Datasets//Mel spectros//Blues//blues\"+ str(num)+\".png\")\n",
    "    x=cv2.resize(np.array(x).astype(np.float32), r_size)\n",
    "    blues.append([x, 'blues'])\n",
    "for i in range(2000):\n",
    "    num= random.randint(0,2999)\n",
    "    x= mpimg.imread(\"C://Work//Datasets//Mel spectros//Pop//pop\"+str(num)+\".png\")\n",
    "    x=cv2.resize(np.array(x).astype(np.float32), r_size)\n",
    "    pop.append([x, 'pop'])"
   ]
  },
  {
   "cell_type": "markdown",
   "id": "2890d1de",
   "metadata": {},
   "source": [
    "# Gray_scale_function"
   ]
  },
  {
   "cell_type": "code",
   "execution_count": 3,
   "id": "81e8d75a",
   "metadata": {},
   "outputs": [],
   "source": [
    "def get_gray_scale(rgb):\n",
    "    return np.dot(rgb[...,:3], [0.2989, 0.5870, 0.1140])"
   ]
  },
  {
   "cell_type": "markdown",
   "id": "13e4856a",
   "metadata": {},
   "source": [
    "# Create a validation dataset"
   ]
  },
  {
   "cell_type": "code",
   "execution_count": 4,
   "id": "c29b047a",
   "metadata": {},
   "outputs": [],
   "source": [
    "val_classic=[]\n",
    "val_country=[]\n",
    "val_disco=[]\n",
    "val_hiphop=[]\n",
    "val_metal=[]\n",
    "val_reggae=[]\n",
    "val_rock=[] \n",
    "val_blues=[]\n",
    "val_pop=[]\n",
    "r_size=(64,64)\n",
    "for i in range(2000,2500):\n",
    "    num= random.randint(0,2999)\n",
    "    x=Image.open(\"C:\\Work\\Datasets\\Mel spectros\\Classical\\classical\"+str(num)+\".png\")\n",
    "    x=cv2.resize(np.array(x).astype(np.float32), r_size)\n",
    "    val_classic.append([x, 'classic'])\n",
    "for i in range(2000,2500):\n",
    "    num= random.randint(0,2999)\n",
    "    x=mpimg.imread(\"C:\\Work\\Datasets\\Mel spectros\\Country\\country\"+str(num)+\".png\")\n",
    "    x=cv2.resize(np.array(x).astype(np.float32), r_size)\n",
    "    val_country.append([x, 'country'])\n",
    "for i in range(2000,2500):\n",
    "    num= random.randint(0,2999)\n",
    "    x= mpimg.imread(\"C:\\Work\\Datasets\\Mel spectros\\Disco\\disco\"+str(num)+\".png\")\n",
    "    x=cv2.resize(np.array(x).astype(np.float32), r_size)\n",
    "    val_disco.append([x, 'disco'])\n",
    "for i in range(2000,2500):\n",
    "    num= random.randint(0,2999)\n",
    "    x= mpimg.imread(\"C:\\Work\\Datasets\\Mel spectros\\Hiphop\\hiphop\"+str(num)+\".png\")\n",
    "    x=cv2.resize(np.array(x).astype(np.float32), r_size)\n",
    "    val_hiphop.append([x, 'hiphop'])\n",
    "for i in range(2000,2500):\n",
    "    num= random.randint(0,2999)\n",
    "    x= mpimg.imread(\"C:\\Work\\Datasets\\Mel spectros\\Metal\\metal\"+str(num)+\".png\")\n",
    "    x=cv2.resize(np.array(x).astype(np.float32), r_size)\n",
    "    val_metal.append([x, 'metal'])\n",
    "for i in range(2000,2500):\n",
    "    num= random.randint(0,2999)\n",
    "    x= mpimg.imread(\"C://Work//Datasets//Mel spectros//reggae//reggae\"+str(num)+\".png\")\n",
    "    x=cv2.resize(np.array(x).astype(np.float32), r_size)\n",
    "    val_reggae.append([x, 'reggae'])\n",
    "for i in range(2000,2500):\n",
    "    num= random.randint(0,2999)\n",
    "    x=mpimg.imread(\"C://Work//Datasets//Mel spectros//Rock//rock\"+str(num)+\".png\")\n",
    "    x=cv2.resize(np.array(x).astype(np.float32), r_size)\n",
    "    val_rock.append([x, 'rock'])\n",
    "for i in range(2000,2500):\n",
    "    num= random.randint(0,2999)\n",
    "    x= mpimg.imread(\"C://Work\\Datasets//Mel spectros//Blues//blues\"+ str(num)+\".png\")\n",
    "    x=cv2.resize(np.array(x).astype(np.float32), r_size)\n",
    "    val_blues.append([x, 'blues'])\n",
    "for i in range(2000,2500):\n",
    "    num= random.randint(0,2999)\n",
    "    x= mpimg.imread(\"C://Work//Datasets//Mel spectros//Pop//pop\"+str(num)+\".png\")\n",
    "    x=cv2.resize(np.array(x).astype(np.float32), r_size)\n",
    "    val_pop.append([x, 'pop'])\n",
    "\n",
    "val_mel_graphs= val_classic+val_country+val_disco+val_hiphop+val_metal+val_reggae+val_rock+val_blues+val_pop\n",
    "random.shuffle(val_mel_graphs)\n",
    "\n",
    "for i in range(len(val_mel_graphs)):\n",
    "    val_mel_graphs[i][0]= get_gray_scale(val_mel_graphs[i][0])\n",
    "\n",
    "val_graphs=[]\n",
    "val_labels=[]\n",
    "for i in val_mel_graphs:\n",
    "    val_graphs.append(i[0])\n",
    "    val_labels.append(i[1])\n",
    "\n",
    "val_graphs= np.array(val_graphs)\n",
    "val_graphs= val_graphs.reshape(-1, 64, 64, 1)\n",
    "\n",
    "val_labels= np.array(val_labels)\n",
    "enc= LabelEncoder()\n",
    "val_labels= enc.fit_transform(val_labels)\n",
    "val_labels= tf.one_hot(val_labels, depth=9)"
   ]
  },
  {
   "cell_type": "markdown",
   "id": "4f5f70a2",
   "metadata": {},
   "source": [
    "# Combine all the mel_spectrograms"
   ]
  },
  {
   "cell_type": "code",
   "execution_count": 5,
   "id": "2c8becf8",
   "metadata": {},
   "outputs": [],
   "source": [
    "mel_graphs= classic+country+disco+hiphop+metal+reggae+rock+blues+pop\n",
    "random.shuffle(mel_graphs)"
   ]
  },
  {
   "cell_type": "markdown",
   "id": "8812d2dc",
   "metadata": {},
   "source": [
    "# Convert them into Gray scale"
   ]
  },
  {
   "cell_type": "code",
   "execution_count": 6,
   "id": "3355b018",
   "metadata": {},
   "outputs": [],
   "source": [
    "for i in range(len(mel_graphs)):\n",
    "    mel_graphs[i][0]= get_gray_scale(mel_graphs[i][0])"
   ]
  },
  {
   "cell_type": "markdown",
   "id": "a8563c38",
   "metadata": {},
   "source": [
    "# Segregatge the graphs and labels"
   ]
  },
  {
   "cell_type": "code",
   "execution_count": 7,
   "id": "d1c0c7ee",
   "metadata": {},
   "outputs": [],
   "source": [
    "graphs=[]\n",
    "labels=[]\n",
    "for i in mel_graphs:\n",
    "    graphs.append(i[0])\n",
    "    labels.append(i[1])"
   ]
  },
  {
   "cell_type": "markdown",
   "id": "c2c7c4f4",
   "metadata": {},
   "source": [
    "# Preprocess the dataset for the input to model"
   ]
  },
  {
   "cell_type": "code",
   "execution_count": 8,
   "id": "5c4f2f94",
   "metadata": {},
   "outputs": [],
   "source": [
    "graphs= np.array(graphs)\n",
    "graphs= graphs.reshape(-1, 64, 64, 1)"
   ]
  },
  {
   "cell_type": "markdown",
   "id": "4aacf936",
   "metadata": {},
   "source": [
    "# Encode the labels into one hot encoded vector"
   ]
  },
  {
   "cell_type": "code",
   "execution_count": 9,
   "id": "15cf31ef",
   "metadata": {
    "scrolled": true
   },
   "outputs": [],
   "source": [
    "labels= np.array(labels)\n",
    "enc= LabelEncoder()\n",
    "labels= enc.fit_transform(labels)\n",
    "labels= tf.one_hot(labels, depth=9)"
   ]
  },
  {
   "cell_type": "markdown",
   "id": "ace02599",
   "metadata": {},
   "source": [
    "# Make model function"
   ]
  },
  {
   "cell_type": "code",
   "execution_count": 13,
   "id": "3adb76f3",
   "metadata": {},
   "outputs": [],
   "source": [
    "def get_model():\n",
    "    model= Sequential([\n",
    "        Conv2D(input_shape=(64,64,1), filters=64, kernel_size=(8,8), strides=1, activation='relu'),\n",
    "        Dropout(0.3),\n",
    "        BatchNormalization(),\n",
    "        Conv2D(filters=64, kernel_size=(8,8), strides=1, activation='relu'),\n",
    "        Dropout(0.3),\n",
    "        MaxPooling2D(4,4),\n",
    "        Conv2D(filters=32, kernel_size=(4,4), strides=1, activation='relu'),\n",
    "        Dropout(0.4),\n",
    "        BatchNormalization(),\n",
    "        Conv2D(filters=32, kernel_size=(4,4), strides=1, activation='relu'),\n",
    "        Dropout(0.4),\n",
    "        Flatten(),\n",
    "        Dense(128, activation='relu'),\n",
    "        Dropout(0.2),\n",
    "        Dense(9, activation='sigmoid'),\n",
    "    ])\n",
    "    model.compile(loss='categorical_crossentropy', optimizer='Adam', metrics=['acc'])\n",
    "    return model"
   ]
  },
  {
   "cell_type": "markdown",
   "id": "10068439",
   "metadata": {},
   "source": [
    "# Get the model summary"
   ]
  },
  {
   "cell_type": "code",
   "execution_count": 14,
   "id": "7d7e2389",
   "metadata": {},
   "outputs": [
    {
     "name": "stdout",
     "output_type": "stream",
     "text": [
      "Model: \"sequential_1\"\n",
      "_________________________________________________________________\n",
      "Layer (type)                 Output Shape              Param #   \n",
      "=================================================================\n",
      "conv2d_4 (Conv2D)            (None, 57, 57, 64)        4160      \n",
      "_________________________________________________________________\n",
      "dropout_5 (Dropout)          (None, 57, 57, 64)        0         \n",
      "_________________________________________________________________\n",
      "batch_normalization_2 (Batch (None, 57, 57, 64)        256       \n",
      "_________________________________________________________________\n",
      "conv2d_5 (Conv2D)            (None, 50, 50, 64)        262208    \n",
      "_________________________________________________________________\n",
      "dropout_6 (Dropout)          (None, 50, 50, 64)        0         \n",
      "_________________________________________________________________\n",
      "max_pooling2d_1 (MaxPooling2 (None, 12, 12, 64)        0         \n",
      "_________________________________________________________________\n",
      "conv2d_6 (Conv2D)            (None, 9, 9, 32)          32800     \n",
      "_________________________________________________________________\n",
      "dropout_7 (Dropout)          (None, 9, 9, 32)          0         \n",
      "_________________________________________________________________\n",
      "batch_normalization_3 (Batch (None, 9, 9, 32)          128       \n",
      "_________________________________________________________________\n",
      "conv2d_7 (Conv2D)            (None, 6, 6, 32)          16416     \n",
      "_________________________________________________________________\n",
      "dropout_8 (Dropout)          (None, 6, 6, 32)          0         \n",
      "_________________________________________________________________\n",
      "flatten_1 (Flatten)          (None, 1152)              0         \n",
      "_________________________________________________________________\n",
      "dense_2 (Dense)              (None, 128)               147584    \n",
      "_________________________________________________________________\n",
      "dropout_9 (Dropout)          (None, 128)               0         \n",
      "_________________________________________________________________\n",
      "dense_3 (Dense)              (None, 9)                 1161      \n",
      "=================================================================\n",
      "Total params: 464,713\n",
      "Trainable params: 464,521\n",
      "Non-trainable params: 192\n",
      "_________________________________________________________________\n"
     ]
    }
   ],
   "source": [
    "model=get_model()\n",
    "model.summary()"
   ]
  },
  {
   "cell_type": "markdown",
   "id": "a18bc38b",
   "metadata": {},
   "source": [
    "# Create model to save the best weights"
   ]
  },
  {
   "cell_type": "code",
   "execution_count": 15,
   "id": "5453abd9",
   "metadata": {},
   "outputs": [],
   "source": [
    "checkpt= tf.keras.callbacks.ModelCheckpoint(r\"C:\\Work\\Projects\\GTZAN weights\",save_best_only=True, monitor='val_loss')"
   ]
  },
  {
   "cell_type": "markdown",
   "id": "8faad723",
   "metadata": {},
   "source": [
    "# Train the model"
   ]
  },
  {
   "cell_type": "code",
   "execution_count": 16,
   "id": "d11d7b02",
   "metadata": {
    "scrolled": false
   },
   "outputs": [
    {
     "name": "stdout",
     "output_type": "stream",
     "text": [
      "Epoch 1/80\n",
      "282/282 [==============================] - 18s 27ms/step - loss: 1.8851 - acc: 0.2187 - val_loss: 1.8517 - val_acc: 0.2222\n",
      "INFO:tensorflow:Assets written to: C:\\Work\\Projects\\GTZAN weights\\assets\n",
      "Epoch 2/80\n",
      "282/282 [==============================] - 7s 24ms/step - loss: 1.8606 - acc: 0.2276 - val_loss: 1.8140 - val_acc: 0.2351\n",
      "INFO:tensorflow:Assets written to: C:\\Work\\Projects\\GTZAN weights\\assets\n",
      "Epoch 3/80\n",
      "282/282 [==============================] - 7s 24ms/step - loss: 1.5506 - acc: 0.3964 - val_loss: 1.4797 - val_acc: 0.3767\n",
      "INFO:tensorflow:Assets written to: C:\\Work\\Projects\\GTZAN weights\\assets\n",
      "Epoch 4/80\n",
      "282/282 [==============================] - 7s 24ms/step - loss: 1.3499 - acc: 0.4792 - val_loss: 1.4595 - val_acc: 0.4071\n",
      "INFO:tensorflow:Assets written to: C:\\Work\\Projects\\GTZAN weights\\assets\n",
      "Epoch 5/80\n",
      "282/282 [==============================] - 7s 24ms/step - loss: 1.2350 - acc: 0.5261 - val_loss: 1.7275 - val_acc: 0.3782\n",
      "Epoch 6/80\n",
      "282/282 [==============================] - 7s 23ms/step - loss: 1.0972 - acc: 0.5812 - val_loss: 1.2838 - val_acc: 0.4971\n",
      "INFO:tensorflow:Assets written to: C:\\Work\\Projects\\GTZAN weights\\assets\n",
      "Epoch 7/80\n",
      "282/282 [==============================] - 7s 24ms/step - loss: 0.9389 - acc: 0.6446 - val_loss: 1.3186 - val_acc: 0.4756\n",
      "Epoch 8/80\n",
      "282/282 [==============================] - 7s 24ms/step - loss: 0.7675 - acc: 0.7146 - val_loss: 1.5414 - val_acc: 0.4202\n",
      "Epoch 9/80\n",
      "282/282 [==============================] - 7s 24ms/step - loss: 0.6103 - acc: 0.7747 - val_loss: 1.7908 - val_acc: 0.4667\n",
      "Epoch 10/80\n",
      "282/282 [==============================] - 7s 24ms/step - loss: 0.5549 - acc: 0.8001 - val_loss: 1.6741 - val_acc: 0.4151\n",
      "Epoch 11/80\n",
      "282/282 [==============================] - 7s 24ms/step - loss: 0.4069 - acc: 0.8534 - val_loss: 1.5311 - val_acc: 0.4587\n",
      "Epoch 12/80\n",
      "282/282 [==============================] - 7s 24ms/step - loss: 0.3238 - acc: 0.8823 - val_loss: 1.5763 - val_acc: 0.4667\n",
      "Epoch 13/80\n",
      "282/282 [==============================] - 7s 24ms/step - loss: 0.3001 - acc: 0.8959 - val_loss: 1.2714 - val_acc: 0.5462\n",
      "INFO:tensorflow:Assets written to: C:\\Work\\Projects\\GTZAN weights\\assets\n",
      "Epoch 14/80\n",
      "282/282 [==============================] - 7s 24ms/step - loss: 0.2205 - acc: 0.9219 - val_loss: 1.1697 - val_acc: 0.5582\n",
      "INFO:tensorflow:Assets written to: C:\\Work\\Projects\\GTZAN weights\\assets\n",
      "Epoch 15/80\n",
      "282/282 [==============================] - 7s 24ms/step - loss: 0.2087 - acc: 0.9297 - val_loss: 1.1402 - val_acc: 0.5922\n",
      "INFO:tensorflow:Assets written to: C:\\Work\\Projects\\GTZAN weights\\assets\n",
      "Epoch 16/80\n",
      "282/282 [==============================] - 7s 24ms/step - loss: 0.1679 - acc: 0.9426 - val_loss: 1.1653 - val_acc: 0.5949\n",
      "Epoch 17/80\n",
      "282/282 [==============================] - 7s 24ms/step - loss: 0.1702 - acc: 0.9416 - val_loss: 0.6657 - val_acc: 0.7647 0s - loss: 0.1708 - a\n",
      "INFO:tensorflow:Assets written to: C:\\Work\\Projects\\GTZAN weights\\assets\n",
      "Epoch 18/80\n",
      "282/282 [==============================] - 7s 24ms/step - loss: 0.1546 - acc: 0.9471 - val_loss: 0.8901 - val_acc: 0.6831\n",
      "Epoch 19/80\n",
      "282/282 [==============================] - 7s 24ms/step - loss: 0.1389 - acc: 0.9542 - val_loss: 0.5592 - val_acc: 0.7911\n",
      "INFO:tensorflow:Assets written to: C:\\Work\\Projects\\GTZAN weights\\assets\n",
      "Epoch 20/80\n",
      "282/282 [==============================] - 7s 24ms/step - loss: 0.1235 - acc: 0.9588 - val_loss: 1.5096 - val_acc: 0.572011 -\n",
      "Epoch 21/80\n",
      "282/282 [==============================] - 7s 24ms/step - loss: 0.1228 - acc: 0.9594 - val_loss: 0.6303 - val_acc: 0.7620 - loss: 0.1217\n",
      "Epoch 22/80\n",
      "282/282 [==============================] - 7s 24ms/step - loss: 0.1064 - acc: 0.9627 - val_loss: 1.0516 - val_acc: 0.6300\n",
      "Epoch 23/80\n",
      "282/282 [==============================] - 7s 24ms/step - loss: 0.1120 - acc: 0.9623 - val_loss: 1.3580 - val_acc: 0.6187\n",
      "Epoch 24/80\n",
      "282/282 [==============================] - 7s 24ms/step - loss: 0.1000 - acc: 0.9659 - val_loss: 0.9663 - val_acc: 0.6762\n",
      "Epoch 25/80\n",
      "282/282 [==============================] - 7s 24ms/step - loss: 0.1222 - acc: 0.9587 - val_loss: 0.8306 - val_acc: 0.7076\n",
      "Epoch 26/80\n",
      "282/282 [==============================] - 7s 24ms/step - loss: 0.0971 - acc: 0.9672 - val_loss: 1.0744 - val_acc: 0.64581s - loss: 0. - ETA: 0s - loss: 0.0974 - acc: 0.\n",
      "Epoch 27/80\n",
      "282/282 [==============================] - 7s 24ms/step - loss: 0.0976 - acc: 0.9669 - val_loss: 1.2677 - val_acc: 0.6233\n",
      "Epoch 28/80\n",
      "282/282 [==============================] - 7s 24ms/step - loss: 0.0887 - acc: 0.9714 - val_loss: 0.7570 - val_acc: 0.7200\n",
      "Epoch 29/80\n",
      "282/282 [==============================] - 7s 24ms/step - loss: 0.0832 - acc: 0.9726 - val_loss: 0.3646 - val_acc: 0.8753\n",
      "INFO:tensorflow:Assets written to: C:\\Work\\Projects\\GTZAN weights\\assets\n",
      "Epoch 30/80\n",
      "282/282 [==============================] - 7s 24ms/step - loss: 0.0689 - acc: 0.9768 - val_loss: 0.8555 - val_acc: 0.7293\n",
      "Epoch 31/80\n",
      "282/282 [==============================] - 7s 24ms/step - loss: 0.0735 - acc: 0.9762 - val_loss: 0.6949 - val_acc: 0.7451\n",
      "Epoch 32/80\n",
      "282/282 [==============================] - 7s 24ms/step - loss: 0.0744 - acc: 0.9736 - val_loss: 0.7329 - val_acc: 0.73499 - ETA:  - ETA: 0s - loss: 0.0763\n",
      "Epoch 33/80\n",
      "282/282 [==============================] - 7s 24ms/step - loss: 0.0711 - acc: 0.9759 - val_loss: 0.9649 - val_acc: 0.6891\n",
      "Epoch 34/80\n",
      "282/282 [==============================] - 7s 24ms/step - loss: 0.0903 - acc: 0.9701 - val_loss: 0.5456 - val_acc: 0.7967\n",
      "Epoch 35/80\n",
      "282/282 [==============================] - 7s 24ms/step - loss: 0.0716 - acc: 0.9749 - val_loss: 0.6116 - val_acc: 0.7840\n",
      "Epoch 36/80\n",
      "282/282 [==============================] - 7s 24ms/step - loss: 0.0641 - acc: 0.9790 - val_loss: 0.7738 - val_acc: 0.7411\n",
      "Epoch 37/80\n",
      "282/282 [==============================] - 7s 24ms/step - loss: 0.1025 - acc: 0.9683 - val_loss: 0.6677 - val_acc: 0.7511\n",
      "Epoch 38/80\n",
      "282/282 [==============================] - 7s 24ms/step - loss: 0.0657 - acc: 0.9769 - val_loss: 0.5054 - val_acc: 0.8233\n",
      "Epoch 39/80\n",
      "282/282 [==============================] - 7s 24ms/step - loss: 0.0504 - acc: 0.9833 - val_loss: 0.7060 - val_acc: 0.7469\n",
      "Epoch 40/80\n",
      "282/282 [==============================] - 7s 24ms/step - loss: 0.0541 - acc: 0.9819 - val_loss: 1.2361 - val_acc: 0.6620\n",
      "Epoch 41/80\n",
      "282/282 [==============================] - 7s 24ms/step - loss: 0.0522 - acc: 0.9823 - val_loss: 1.2170 - val_acc: 0.6427\n",
      "Epoch 42/80\n",
      "282/282 [==============================] - 7s 24ms/step - loss: 0.0647 - acc: 0.9792 - val_loss: 0.7437 - val_acc: 0.7500\n",
      "Epoch 43/80\n",
      "282/282 [==============================] - 7s 24ms/step - loss: 0.0560 - acc: 0.9818 - val_loss: 0.7360 - val_acc: 0.7604\n",
      "Epoch 44/80\n",
      "282/282 [==============================] - 7s 24ms/step - loss: 0.0521 - acc: 0.9818 - val_loss: 0.3656 - val_acc: 0.8678\n",
      "Epoch 45/80\n",
      "282/282 [==============================] - 7s 24ms/step - loss: 0.0480 - acc: 0.9838 - val_loss: 1.2426 - val_acc: 0.6411\n",
      "Epoch 46/80\n",
      "282/282 [==============================] - 7s 24ms/step - loss: 0.0483 - acc: 0.9836 - val_loss: 0.9965 - val_acc: 0.7042\n",
      "Epoch 47/80\n",
      "282/282 [==============================] - 7s 24ms/step - loss: 0.0622 - acc: 0.9801 - val_loss: 0.9814 - val_acc: 0.7200\n",
      "Epoch 48/80\n",
      "282/282 [==============================] - 7s 24ms/step - loss: 0.0554 - acc: 0.9815 - val_loss: 0.4883 - val_acc: 0.8431\n",
      "Epoch 49/80\n",
      "282/282 [==============================] - 7s 24ms/step - loss: 0.0620 - acc: 0.9803 - val_loss: 0.6846 - val_acc: 0.7722\n",
      "Epoch 50/80\n",
      "282/282 [==============================] - 7s 24ms/step - loss: 0.0511 - acc: 0.9827 - val_loss: 0.6241 - val_acc: 0.7851\n",
      "Epoch 51/80\n",
      "282/282 [==============================] - 7s 24ms/step - loss: 0.0409 - acc: 0.9865 - val_loss: 0.6550 - val_acc: 0.7529\n",
      "Epoch 52/80\n",
      "282/282 [==============================] - 7s 24ms/step - loss: 0.0727 - acc: 0.9769 - val_loss: 0.4960 - val_acc: 0.8311\n",
      "Epoch 53/80\n",
      "282/282 [==============================] - 7s 24ms/step - loss: 0.0447 - acc: 0.9835 - val_loss: 0.4806 - val_acc: 0.8253 - loss: 0\n",
      "Epoch 54/80\n",
      "282/282 [==============================] - 7s 24ms/step - loss: 0.0450 - acc: 0.9856 - val_loss: 0.7790 - val_acc: 0.7476\n",
      "Epoch 55/80\n",
      "282/282 [==============================] - 7s 24ms/step - loss: 0.0365 - acc: 0.9874 - val_loss: 0.8437 - val_acc: 0.7282\n",
      "Epoch 56/80\n",
      "282/282 [==============================] - 7s 24ms/step - loss: 0.0486 - acc: 0.9837 - val_loss: 0.6019 - val_acc: 0.7887\n",
      "Epoch 57/80\n",
      "282/282 [==============================] - 7s 24ms/step - loss: 0.0391 - acc: 0.9869 - val_loss: 0.6719 - val_acc: 0.7860\n",
      "Epoch 58/80\n",
      "282/282 [==============================] - 7s 24ms/step - loss: 0.0401 - acc: 0.9865 - val_loss: 0.7187 - val_acc: 0.7749\n",
      "Epoch 59/80\n",
      "282/282 [==============================] - 7s 24ms/step - loss: 0.0396 - acc: 0.9853 - val_loss: 0.2819 - val_acc: 0.8960s - loss: \n",
      "INFO:tensorflow:Assets written to: C:\\Work\\Projects\\GTZAN weights\\assets\n",
      "Epoch 60/80\n",
      "282/282 [==============================] - 7s 24ms/step - loss: 0.0404 - acc: 0.9871 - val_loss: 0.4979 - val_acc: 0.8262\n",
      "Epoch 61/80\n",
      "282/282 [==============================] - 7s 24ms/step - loss: 0.0430 - acc: 0.9864 - val_loss: 0.5648 - val_acc: 0.8287\n",
      "Epoch 62/80\n",
      "282/282 [==============================] - 7s 24ms/step - loss: 0.0479 - acc: 0.9849 - val_loss: 0.5361 - val_acc: 0.7991\n",
      "Epoch 63/80\n",
      "282/282 [==============================] - 7s 24ms/step - loss: 0.0392 - acc: 0.9869 - val_loss: 0.9893 - val_acc: 0.7189\n",
      "Epoch 64/80\n",
      "282/282 [==============================] - 7s 24ms/step - loss: 0.0432 - acc: 0.9853 - val_loss: 0.4138 - val_acc: 0.8602\n",
      "Epoch 65/80\n",
      "282/282 [==============================] - 7s 24ms/step - loss: 0.0474 - acc: 0.9854 - val_loss: 0.3159 - val_acc: 0.8969\n",
      "Epoch 66/80\n",
      "282/282 [==============================] - 7s 24ms/step - loss: 0.0392 - acc: 0.9867 - val_loss: 0.4654 - val_acc: 0.8296\n",
      "Epoch 67/80\n",
      "282/282 [==============================] - 7s 24ms/step - loss: 0.0457 - acc: 0.9862 - val_loss: 0.3740 - val_acc: 0.8802\n",
      "Epoch 68/80\n",
      "282/282 [==============================] - 7s 24ms/step - loss: 0.0473 - acc: 0.9844 - val_loss: 0.4539 - val_acc: 0.8407\n",
      "Epoch 69/80\n",
      "282/282 [==============================] - 7s 24ms/step - loss: 0.0393 - acc: 0.9869 - val_loss: 0.4273 - val_acc: 0.8464\n",
      "Epoch 70/80\n",
      "282/282 [==============================] - 7s 24ms/step - loss: 0.0389 - acc: 0.9875 - val_loss: 0.1804 - val_acc: 0.9378\n",
      "INFO:tensorflow:Assets written to: C:\\Work\\Projects\\GTZAN weights\\assets\n",
      "Epoch 71/80\n",
      "282/282 [==============================] - 7s 24ms/step - loss: 0.0371 - acc: 0.9878 - val_loss: 0.2379 - val_acc: 0.9133\n",
      "Epoch 72/80\n",
      "282/282 [==============================] - 7s 24ms/step - loss: 0.0439 - acc: 0.9857 - val_loss: 0.2796 - val_acc: 0.8984\n",
      "Epoch 73/80\n",
      "282/282 [==============================] - 7s 24ms/step - loss: 0.0332 - acc: 0.9888 - val_loss: 0.9218 - val_acc: 0.7393\n",
      "Epoch 74/80\n",
      "282/282 [==============================] - 7s 24ms/step - loss: 0.0306 - acc: 0.9898 - val_loss: 0.4607 - val_acc: 0.8487\n",
      "Epoch 75/80\n",
      "282/282 [==============================] - 7s 24ms/step - loss: 0.0321 - acc: 0.9893 - val_loss: 0.5377 - val_acc: 0.8211\n",
      "Epoch 76/80\n",
      "282/282 [==============================] - 7s 24ms/step - loss: 0.0328 - acc: 0.9884 - val_loss: 0.1661 - val_acc: 0.9400\n",
      "INFO:tensorflow:Assets written to: C:\\Work\\Projects\\GTZAN weights\\assets\n",
      "Epoch 77/80\n",
      "282/282 [==============================] - 7s 24ms/step - loss: 0.0408 - acc: 0.9870 - val_loss: 0.4615 - val_acc: 0.8420\n",
      "Epoch 78/80\n",
      "282/282 [==============================] - 7s 24ms/step - loss: 0.0418 - acc: 0.9866 - val_loss: 1.9286 - val_acc: 0.5536\n",
      "Epoch 79/80\n",
      "282/282 [==============================] - 7s 24ms/step - loss: 0.0425 - acc: 0.9871 - val_loss: 0.4019 - val_acc: 0.8616- loss: 0.0428 - a\n",
      "Epoch 80/80\n",
      "282/282 [==============================] - 7s 24ms/step - loss: 0.0392 - acc: 0.9881 - val_loss: 0.3633 - val_acc: 0.8753\n"
     ]
    }
   ],
   "source": [
    "history=model.fit(graphs, labels, epochs=80, batch_size=64, validation_data=(val_graphs, val_labels), callbacks=[checkpt])"
   ]
  },
  {
   "cell_type": "markdown",
   "id": "b91bb3b5",
   "metadata": {},
   "source": [
    "# Plot for the training process"
   ]
  },
  {
   "cell_type": "code",
   "execution_count": 19,
   "id": "a63c4fcf",
   "metadata": {},
   "outputs": [
    {
     "data": {
      "image/png": "[encoded data removed]",
      "text/plain": [
       "<Figure size 432x288 with 1 Axes>"
      ]
     },
     "metadata": {
      "needs_background": "light"
     },
     "output_type": "display_data"
    }
   ],
   "source": [
    "plt.plot(history.history['acc'])\n",
    "plt.plot(history.history['val_acc'])\n",
    "plt.title(\"Loss Vs Epochs\")\n",
    "plt.ylabel('Accuracy')\n",
    "plt.xlabel('Epochs')\n",
    "plt.legend(['Training Loss', 'Validation Loss'], loc='upper right')\n",
    "plt.show()"
   ]
  },
  {
   "cell_type": "markdown",
   "id": "47e32c70",
   "metadata": {},
   "source": [
    "## As i have set the checkpoint to save the best weights only, so model saved the weights with maximum val_acc, thus the model is weights having 94% on validation set."
   ]
  }
 ],
 "metadata": {
  "kernelspec": {
   "display_name": "Python 3 (ipykernel)",
   "language": "python",
   "name": "python3"
  },
  "language_info": {
   "codemirror_mode": {
    "name": "ipython",
    "version": 3
   },
   "file_extension": ".py",
   "mimetype": "text/x-python",
   "name": "python",
   "nbconvert_exporter": "python",
   "pygments_lexer": "ipython3",
   "version": "3.9.7"
  }
 },
 "nbformat": 4,
 "nbformat_minor": 5
}
